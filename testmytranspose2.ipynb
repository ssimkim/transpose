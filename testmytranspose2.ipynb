{
 "cells": [
  {
   "cell_type": "code",
   "execution_count": 14,
   "id": "6f2cec01",
   "metadata": {},
   "outputs": [],
   "source": [
    "import numpy as np\n",
    "import pandas as pd\n",
    "import numpy.testing as npt\n",
    "\n",
    "def mytranspose(x):\n",
    "    if isinstance(x, np.ndarray):\n",
    "        y = np.empty(shape=(x.shape[1], x.shape[0]), dtype=object)\n",
    "        for i in range(x.shape[0]):\n",
    "            for j in range(x.shape[1]):\n",
    "                if x[i,j] is not None:\n",
    "                    y[j,i] = x[i,j]\n",
    "                else:\n",
    "                    y[j,i] = None\n",
    "        return y\n",
    "    elif isinstance(x, pd.DataFrame):\n",
    "        x_arr = x.to_numpy(dtype=object)\n",
    "        y_arr = mytranspose(x_arr)\n",
    "        return pd.DataFrame(y_arr)\n",
    "    elif isinstance(x, list):\n",
    "        x_arr = np.array(x, dtype=object).reshape(-1, 1)\n",
    "        y_arr = mytranspose(x_arr)\n",
    "        return y_arr.reshape(-1, 1).tolist()\n",
    "    else:\n",
    "        raise TypeError(\"input should be a numpy array, pandas dataframe, or list\")"
   ]
  },
  {
   "cell_type": "code",
   "execution_count": 15,
   "id": "14ad51ba",
   "metadata": {},
   "outputs": [],
   "source": [
    "#test 1\n",
    "myvar11 = np.arange(1, 11).reshape(5, 2)\n",
    "expected_result1 = np.array([[1, 3, 5, 7, 9], [2, 4, 6, 8, 10]])\n",
    "npt.assert_array_equal(mytranspose(myvar11), expected_result1)\n",
    "\n",
    "myvar12 = np.empty(shape=(0,0))\n",
    "expected_result2 = np.empty(shape=(0,0))\n",
    "npt.assert_array_equal(mytranspose(myvar12), expected_result2)\n",
    "\n",
    "myvar13 = np.array([1, 2]).reshape(1, 2)\n",
    "expected_result3 = np.array([[1], [2]])\n",
    "npt.assert_array_equal(mytranspose(myvar13), expected_result3)\n",
    "\n",
    "myvar14 = np.array([1, 2]).reshape(2, 1)\n",
    "expected_result4 = np.array([[1, 2]])\n",
    "npt.assert_array_equal(mytranspose(myvar14), expected_result4)"
   ]
  },
  {
   "cell_type": "code",
   "execution_count": 16,
   "id": "ac6f33bd",
   "metadata": {},
   "outputs": [],
   "source": [
    "#test 2\n",
    "myvar21 = [1, 2, None, 3]\n",
    "expected_result1 = np.array([[1], [2], [None], [3]])\n",
    "npt.assert_array_equal(mytranspose(myvar21), expected_result1)\n",
    "\n",
    "myvar22 = [None]\n",
    "expected_result2 = np.array([[None]])\n",
    "npt.assert_array_equal(mytranspose(myvar22), expected_result2)\n",
    "\n",
    "myvar23 = []\n",
    "expected_result3 = []\n",
    "npt.assert_array_equal(mytranspose(myvar23), expected_result3)"
   ]
  },
  {
   "cell_type": "code",
   "execution_count": 17,
   "id": "0a19f781",
   "metadata": {},
   "outputs": [],
   "source": [
    "d = [1, 2, 3, 4]\n",
    "e = [\"red\", \"white\", \"red\", None]\n",
    "f = [True, True, True, False]\n",
    "mydata3 = pd.DataFrame({'d': d, 'e': e, 'f': f})"
   ]
  },
  {
   "cell_type": "code",
   "execution_count": 18,
   "id": "503fb85c",
   "metadata": {},
   "outputs": [],
   "source": [
    "#test 3\n",
    "expected_result3 = pd.DataFrame({\n",
    "    \"0\": [1, \"red\", True],\n",
    "    \"1\": [2, \"white\", True],\n",
    "    \"2\": [3, \"red\", True],\n",
    "    \"3\": [4, None, False]\n",
    "})\n",
    "\n",
    "npt.assert_array_equal(mytranspose(mydata3), expected_result3)"
   ]
  },
  {
   "cell_type": "code",
   "execution_count": null,
   "id": "4af2fe08",
   "metadata": {},
   "outputs": [],
   "source": []
  }
 ],
 "metadata": {
  "kernelspec": {
   "display_name": "Python 3 (ipykernel)",
   "language": "python",
   "name": "python3"
  },
  "language_info": {
   "codemirror_mode": {
    "name": "ipython",
    "version": 3
   },
   "file_extension": ".py",
   "mimetype": "text/x-python",
   "name": "python",
   "nbconvert_exporter": "python",
   "pygments_lexer": "ipython3",
   "version": "3.9.13"
  }
 },
 "nbformat": 4,
 "nbformat_minor": 5
}
