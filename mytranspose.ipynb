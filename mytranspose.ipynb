{
 "cells": [
  {
   "cell_type": "code",
   "execution_count": 1,
   "id": "072cda49",
   "metadata": {},
   "outputs": [],
   "source": [
    "import numpy as np\n",
    "import pandas as pd\n",
    "import numpy.testing as npt\n",
    "\n",
    "def mytranspose(x):\n",
    "    if isinstance(x, np.ndarray):\n",
    "        y = np.empty(shape=(x.shape[1], x.shape[0]), dtype=object)\n",
    "        for i in range(x.shape[0]):\n",
    "            for j in range(x.shape[1]):\n",
    "                if x[i,j] is not None:\n",
    "                    y[j,i] = x[i,j]\n",
    "                else:\n",
    "                    y[j,i] = None\n",
    "        return y\n",
    "    elif isinstance(x, pd.DataFrame):\n",
    "        x_arr = x.to_numpy(dtype=object)\n",
    "        y_arr = mytranspose(x_arr)\n",
    "        return pd.DataFrame(y_arr)\n",
    "    elif isinstance(x, list):\n",
    "        x_arr = np.array(x, dtype=object).reshape(-1, 1)\n",
    "        y_arr = mytranspose(x_arr)\n",
    "        return y_arr.reshape(-1, 1).tolist()\n",
    "    else:\n",
    "        raise TypeError(\"input should be a numpy array, pandas dataframe, or list\")"
   ]
  },
  {
   "cell_type": "code",
   "execution_count": null,
   "id": "e0a95e16",
   "metadata": {},
   "outputs": [],
   "source": []
  }
 ],
 "metadata": {
  "kernelspec": {
   "display_name": "Python 3 (ipykernel)",
   "language": "python",
   "name": "python3"
  },
  "language_info": {
   "codemirror_mode": {
    "name": "ipython",
    "version": 3
   },
   "file_extension": ".py",
   "mimetype": "text/x-python",
   "name": "python",
   "nbconvert_exporter": "python",
   "pygments_lexer": "ipython3",
   "version": "3.9.13"
  }
 },
 "nbformat": 4,
 "nbformat_minor": 5
}
